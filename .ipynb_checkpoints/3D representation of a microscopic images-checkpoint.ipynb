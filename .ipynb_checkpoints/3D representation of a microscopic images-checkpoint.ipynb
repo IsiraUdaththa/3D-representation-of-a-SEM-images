{
 "cells": [
  {
   "cell_type": "code",
   "execution_count": 1,
   "id": "5af4d836-f898-45cc-b28c-258553e47bf9",
   "metadata": {},
   "outputs": [
    {
     "ename": "FileNotFoundError",
     "evalue": "[Errno 2] No such file or directory: 'img/test.tif'",
     "output_type": "error",
     "traceback": [
      "\u001b[1;31m---------------------------------------------------------------------------\u001b[0m",
      "\u001b[1;31mFileNotFoundError\u001b[0m                         Traceback (most recent call last)",
      "Cell \u001b[1;32mIn[1], line 10\u001b[0m\n\u001b[0;32m      8\u001b[0m \u001b[38;5;66;03m# Load the grayscale microscopic image using Pillow\u001b[39;00m\n\u001b[0;32m      9\u001b[0m image_path \u001b[38;5;241m=\u001b[39m \u001b[38;5;124m\"\u001b[39m\u001b[38;5;124mimg/test.tif\u001b[39m\u001b[38;5;124m\"\u001b[39m\n\u001b[1;32m---> 10\u001b[0m image \u001b[38;5;241m=\u001b[39m \u001b[43mImage\u001b[49m\u001b[38;5;241;43m.\u001b[39;49m\u001b[43mopen\u001b[49m\u001b[43m(\u001b[49m\u001b[43mimage_path\u001b[49m\u001b[43m)\u001b[49m\u001b[38;5;241m.\u001b[39mconvert(\u001b[38;5;124m'\u001b[39m\u001b[38;5;124mL\u001b[39m\u001b[38;5;124m'\u001b[39m)\n\u001b[0;32m     12\u001b[0m \u001b[38;5;66;03m# Convert the image to a NumPy array\u001b[39;00m\n\u001b[0;32m     13\u001b[0m image_data \u001b[38;5;241m=\u001b[39m np\u001b[38;5;241m.\u001b[39marray(image)\n",
      "File \u001b[1;32m~\\anaconda3\\lib\\site-packages\\PIL\\Image.py:3227\u001b[0m, in \u001b[0;36mopen\u001b[1;34m(fp, mode, formats)\u001b[0m\n\u001b[0;32m   3224\u001b[0m     filename \u001b[38;5;241m=\u001b[39m fp\n\u001b[0;32m   3226\u001b[0m \u001b[38;5;28;01mif\u001b[39;00m filename:\n\u001b[1;32m-> 3227\u001b[0m     fp \u001b[38;5;241m=\u001b[39m \u001b[43mbuiltins\u001b[49m\u001b[38;5;241;43m.\u001b[39;49m\u001b[43mopen\u001b[49m\u001b[43m(\u001b[49m\u001b[43mfilename\u001b[49m\u001b[43m,\u001b[49m\u001b[43m \u001b[49m\u001b[38;5;124;43m\"\u001b[39;49m\u001b[38;5;124;43mrb\u001b[39;49m\u001b[38;5;124;43m\"\u001b[39;49m\u001b[43m)\u001b[49m\n\u001b[0;32m   3228\u001b[0m     exclusive_fp \u001b[38;5;241m=\u001b[39m \u001b[38;5;28;01mTrue\u001b[39;00m\n\u001b[0;32m   3230\u001b[0m \u001b[38;5;28;01mtry\u001b[39;00m:\n",
      "\u001b[1;31mFileNotFoundError\u001b[0m: [Errno 2] No such file or directory: 'img/test.tif'"
     ]
    }
   ],
   "source": [
    "import numpy as np\n",
    "import matplotlib.pyplot as plt\n",
    "from PIL import Image\n",
    "import scipy.ndimage as ndi\n",
    "import plotly.graph_objects as go\n",
    "import pandas as pd\n",
    "\n",
    "# Load the grayscale microscopic image using Pillow\n",
    "image_path = \"img/test.tif\"\n",
    "image = Image.open(image_path).convert('L')\n",
    "\n",
    "# Convert the image to a NumPy array\n",
    "image_data = np.array(image)\n",
    "image_data = image_data[:690]  # Crop the image if needed\n",
    "\n",
    "# Display the grayscale image\n",
    "plt.imshow(image_data, cmap='gray')\n",
    "\n",
    "# Extract data for 3D plotting\n",
    "z = image_data\n",
    "x, y = np.meshgrid(np.arange(image_data.shape[1]), np.arange(image_data.shape[0]))\n",
    "\n",
    "# Create a 3D plot\n",
    "fig, ax = plt.subplots(subplot_kw={\"projection\": \"3d\"})\n",
    "\n",
    "# Create the 3D depth surface plot with a chosen colormap\n",
    "cmap = plt.get_cmap('plasma')  # You can choose your preferred colormap here\n",
    "surface = ax.plot_surface(x, y, z, cmap=cmap, rstride=1, cstride=1, linewidth=0, antialiased=False)\n",
    "\n",
    "# Add a color bar to the plot\n",
    "fig.colorbar(surface, shrink=0.6, aspect=20, pad=0.12)\n",
    "\n",
    "# Set the aspect ratio of the plot to match the data\n",
    "ax.set_box_aspect((np.ptp(x), np.ptp(y), np.ptp(z)))\n",
    "\n",
    "# Show the 3D plot\n",
    "plt.show()\n"
   ]
  },
  {
   "cell_type": "code",
   "execution_count": null,
   "id": "e901afed-fb43-4a65-8472-c756200662ed",
   "metadata": {},
   "outputs": [],
   "source": []
  }
 ],
 "metadata": {
  "kernelspec": {
   "display_name": "Python 3 (ipykernel)",
   "language": "python",
   "name": "python3"
  },
  "language_info": {
   "codemirror_mode": {
    "name": "ipython",
    "version": 3
   },
   "file_extension": ".py",
   "mimetype": "text/x-python",
   "name": "python",
   "nbconvert_exporter": "python",
   "pygments_lexer": "ipython3",
   "version": "3.10.9"
  }
 },
 "nbformat": 4,
 "nbformat_minor": 5
}
